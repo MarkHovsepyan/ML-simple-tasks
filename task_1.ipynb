{
 "nbformat": 4,
 "nbformat_minor": 0,
 "metadata": {
  "colab": {
   "name": "Metric_interview",
   "version": "0.3.2",
   "provenance": [],
   "collapsed_sections": []
  },
  "kernelspec": {
   "name": "python3",
   "language": "python",
   "display_name": "Python 3"
  },
  "pycharm": {
   "stem_cell": {
    "cell_type": "raw",
    "source": [],
    "metadata": {
     "collapsed": false
    }
   }
  }
 },
 "cells": [
  {
   "cell_type": "code",
   "metadata": {
    "colab_type": "code",
    "id": "ZmHXxRnC6MDJ",
    "colab": {},
    "pycharm": {
     "is_executing": false
    }
   },
   "source": [
    "import numpy as np\n",
    "import matplotlib.pyplot as plt\n",
    "import pandas as pd\n",
    "import seaborn as sb"
   ],
   "execution_count": 2,
   "outputs": []
  },
  {
   "cell_type": "code",
   "metadata": {
    "id": "s1ihWo-K6foN",
    "colab_type": "code",
    "colab": {},
    "pycharm": {
     "is_executing": false
    }
   },
   "source": [
    "from sklearn import preprocessing\n",
    "from sklearn.linear_model import LogisticRegression\n",
    "from sklearn.tree import DecisionTreeClassifier\n",
    "from sklearn.model_selection import train_test_split\n",
    "from sklearn import metrics\n",
    "from sklearn.metrics import classification_report\n",
    "from sklearn.metrics import confusion_matrix\n",
    "import xgboost"
   ],
   "execution_count": 1,
   "outputs": []
  },
  {
   "cell_type": "code",
   "metadata": {
    "id": "wnltRdi26fvP",
    "colab_type": "code",
    "colab": {},
    "pycharm": {
     "is_executing": false
    }
   },
   "source": [
    "customer_data = pd.read_csv('train.csv')  # load train data set\n",
    "test = pd.read_csv('test.csv')  # load test data set"
   ],
   "execution_count": 3,
   "outputs": []
  },
  {
   "cell_type": "code",
   "metadata": {
    "colab_type": "code",
    "id": "86qpYLoQ6MAR",
    "colab": {},
    "pycharm": {
     "is_executing": false
    }
   },
   "source": [
    "customer_data['State'] = pd.factorize(customer_data['State'])[0] + 1  # run to encode State as numeric"
   ],
   "execution_count": 4,
   "outputs": []
  },
  {
   "cell_type": "code",
   "metadata": {
    "id": "S8CtxS4k70or",
    "colab_type": "code",
    "colab": {
     "base_uri": "https://localhost:8080/",
     "height": 334
    },
    "outputId": "c9b8d37d-e4c7-479c-88bf-989f4e5f111f",
    "pycharm": {
     "is_executing": false
    }
   },
   "source": [
    "sb.heatmap(customer_data.corr()) # visualize correlations"
   ],
   "execution_count": 5,
   "outputs": [
    {
     "data": {
      "text/plain": "<matplotlib.axes._subplots.AxesSubplot at 0x1e4d26b0550>"
     },
     "metadata": {},
     "output_type": "execute_result",
     "execution_count": 5
    },
    {
     "data": {
      "text/plain": "<Figure size 432x288 with 2 Axes>",
      "image/png": "[encoded data removed]"
     },
     "metadata": {
      "needs_background": "light"
     },
     "output_type": "display_data"
    }
   ]
  },
  {
   "cell_type": "code",
   "metadata": {
    "colab_type": "code",
    "id": "mu-zJ7M-6L1h",
    "colab": {},
    "pycharm": {
     "is_executing": false
    }
   },
   "source": [
    "## Let's leave all the variables in place, for now\n",
    "X = customer_data.ix[:, 0:19].values\n",
    "y = customer_data.ix[:, 20].values"
   ],
   "execution_count": 6,
   "outputs": [
    {
     "name": "stderr",
     "text": [
      "c:\\program files\\python37\\lib\\site-packages\\ipykernel_launcher.py:2: DeprecationWarning: \n.ix is deprecated. Please use\n.loc for label based indexing or\n.iloc for positional indexing\n\nSee the documentation here:\nhttp://pandas.pydata.org/pandas-docs/stable/indexing.html#ix-indexer-is-deprecated\n  \nc:\\program files\\python37\\lib\\site-packages\\ipykernel_launcher.py:3: DeprecationWarning: \n.ix is deprecated. Please use\n.loc for label based indexing or\n.iloc for positional indexing\n\nSee the documentation here:\nhttp://pandas.pydata.org/pandas-docs/stable/indexing.html#ix-indexer-is-deprecated\n  This is separate from the ipykernel package so we can avoid doing imports until\n"
     ],
     "output_type": "stream"
    }
   ]
  },
  {
   "cell_type": "code",
   "metadata": {
    "colab_type": "code",
    "id": "GFoVTxY957vr",
    "colab": {},
    "pycharm": {
     "is_executing": false
    }
   },
   "source": [
    "## Split the data into train/test sets\n",
    "X_train, X_test, y_train, y_test = train_test_split(X, y, test_size = .3, random_state=25)"
   ],
   "execution_count": 7,
   "outputs": []
  },
  {
   "cell_type": "code",
   "metadata": {
    "id": "AXOml1wqs9d8",
    "colab_type": "code",
    "colab": {
     "base_uri": "https://localhost:8080/",
     "height": 156
    },
    "outputId": "bac0ff53-a5a3-4c37-be33-03debbcea3b4"
   },
   "source": [
    "## Logistic Regression\n",
    "log_reg = LogisticRegression()\n",
    "log_reg.fit(X_train, y_train)"
   ],
   "execution_count": 31,
   "outputs": [
    {
     "output_type": "stream",
     "text": [
      "/usr/local/lib/python3.6/dist-packages/sklearn/linear_model/logistic.py:432: FutureWarning: Default solver will be changed to 'lbfgs' in 0.22. Specify a solver to silence this warning.\n",
      "  FutureWarning)\n"
     ],
     "name": "stderr"
    },
    {
     "output_type": "execute_result",
     "data": {
      "text/plain": [
       "LogisticRegression(C=1.0, class_weight=None, dual=False, fit_intercept=True,\n",
       "                   intercept_scaling=1, l1_ratio=None, max_iter=100,\n",
       "                   multi_class='warn', n_jobs=None, penalty='l2',\n",
       "                   random_state=None, solver='warn', tol=0.0001, verbose=0,\n",
       "                   warm_start=False)"
      ]
     },
     "metadata": {
      "tags": []
     },
     "execution_count": 31
    }
   ]
  },
  {
   "cell_type": "code",
   "metadata": {
    "colab_type": "code",
    "id": "DKpiULBK6MFj",
    "colab": {}
   },
   "source": [
    "y_pred = log_reg.predict(X_test)"
   ],
   "execution_count": 0,
   "outputs": []
  },
  {
   "cell_type": "code",
   "metadata": {
    "colab_type": "code",
    "id": "bwo8F3xh6L9q",
    "colab": {
     "base_uri": "https://localhost:8080/",
     "height": 51
    },
    "outputId": "3ce2f049-ef10-48b1-f429-7f9939ce3dcf"
   },
   "source": [
    "cm_1 = confusion_matrix(y_test, y_pred)\n",
    "cm_1\n"
   ],
   "execution_count": 33,
   "outputs": [
    {
     "output_type": "execute_result",
     "data": {
      "text/plain": [
       "array([[752,  14],\n",
       "       [115,  19]])"
      ]
     },
     "metadata": {
      "tags": []
     },
     "execution_count": 33
    }
   ]
  },
  {
   "cell_type": "code",
   "metadata": {
    "colab_type": "code",
    "id": "ccuMn01G57pb",
    "colab": {
     "base_uri": "https://localhost:8080/",
     "height": 170
    },
    "outputId": "62e8aea3-34b0-41eb-83e5-05939f3a5374"
   },
   "source": [
    "print(classification_report(y_test, y_pred)) # results of the logistic model"
   ],
   "execution_count": 34,
   "outputs": [
    {
     "output_type": "stream",
     "text": [
      "              precision    recall  f1-score   support\n",
      "\n",
      "           0       0.87      0.98      0.92       766\n",
      "           1       0.58      0.14      0.23       134\n",
      "\n",
      "    accuracy                           0.86       900\n",
      "   macro avg       0.72      0.56      0.57       900\n",
      "weighted avg       0.82      0.86      0.82       900\n",
      "\n"
     ],
     "name": "stdout"
    }
   ]
  },
  {
   "cell_type": "code",
   "metadata": {
    "id": "eWJTTfvh6P_j",
    "colab_type": "code",
    "colab": {
     "base_uri": "https://localhost:8080/",
     "height": 119
    },
    "outputId": "322261f4-9ccf-4083-c7f5-8b1c2466fede"
   },
   "source": [
    "## Decision Tree\n",
    "clf_tree = DecisionTreeClassifier()\n",
    "clf_tree.fit(X_train, y_train)\n"
   ],
   "execution_count": 35,
   "outputs": [
    {
     "output_type": "execute_result",
     "data": {
      "text/plain": [
       "DecisionTreeClassifier(class_weight=None, criterion='gini', max_depth=None,\n",
       "                       max_features=None, max_leaf_nodes=None,\n",
       "                       min_impurity_decrease=0.0, min_impurity_split=None,\n",
       "                       min_samples_leaf=1, min_samples_split=2,\n",
       "                       min_weight_fraction_leaf=0.0, presort=False,\n",
       "                       random_state=None, splitter='best')"
      ]
     },
     "metadata": {
      "tags": []
     },
     "execution_count": 35
    }
   ]
  },
  {
   "cell_type": "code",
   "metadata": {
    "id": "AIB7MvEZH6oD",
    "colab_type": "code",
    "colab": {}
   },
   "source": [
    "y_pred = clf_tree.predict(X_test)"
   ],
   "execution_count": 0,
   "outputs": []
  },
  {
   "cell_type": "code",
   "metadata": {
    "id": "uqudRnyh6QDZ",
    "colab_type": "code",
    "colab": {
     "base_uri": "https://localhost:8080/",
     "height": 51
    },
    "outputId": "b251d867-44ca-4fe1-d4ed-19386c43e9d4"
   },
   "source": [
    "cm_2 = confusion_matrix(y_test, y_pred)\n",
    "cm_2 # much better results"
   ],
   "execution_count": 37,
   "outputs": [
    {
     "output_type": "execute_result",
     "data": {
      "text/plain": [
       "array([[729,  37],\n",
       "       [ 40,  94]])"
      ]
     },
     "metadata": {
      "tags": []
     },
     "execution_count": 37
    }
   ]
  },
  {
   "cell_type": "code",
   "metadata": {
    "id": "LWam_jPx6QGl",
    "colab_type": "code",
    "colab": {
     "base_uri": "https://localhost:8080/",
     "height": 170
    },
    "outputId": "35313c8a-549e-422d-eafa-54e9e472bc8e"
   },
   "source": [
    "print(classification_report(y_test, y_pred)) # results of the tree model"
   ],
   "execution_count": 38,
   "outputs": [
    {
     "output_type": "stream",
     "text": [
      "              precision    recall  f1-score   support\n",
      "\n",
      "           0       0.95      0.95      0.95       766\n",
      "           1       0.72      0.70      0.71       134\n",
      "\n",
      "    accuracy                           0.91       900\n",
      "   macro avg       0.83      0.83      0.83       900\n",
      "weighted avg       0.91      0.91      0.91       900\n",
      "\n"
     ],
     "name": "stdout"
    }
   ]
  },
  {
   "cell_type": "code",
   "metadata": {
    "id": "cyz1FqDvWUv6",
    "colab_type": "code",
    "colab": {
     "base_uri": "https://localhost:8080/",
     "height": 136
    },
    "outputId": "c3ba8fcd-1cb1-4f24-ca6e-eb64ee6d4c00"
   },
   "source": [
    "## Boosting\n",
    "boost = xgboost.XGBClassifier()\n",
    "boost.fit(X_train, y_train)\n"
   ],
   "execution_count": 39,
   "outputs": [
    {
     "output_type": "execute_result",
     "data": {
      "text/plain": [
       "XGBClassifier(base_score=0.5, booster='gbtree', colsample_bylevel=1,\n",
       "              colsample_bynode=1, colsample_bytree=1, gamma=0,\n",
       "              learning_rate=0.1, max_delta_step=0, max_depth=3,\n",
       "              min_child_weight=1, missing=None, n_estimators=100, n_jobs=1,\n",
       "              nthread=None, objective='binary:logistic', random_state=0,\n",
       "              reg_alpha=0, reg_lambda=1, scale_pos_weight=1, seed=None,\n",
       "              silent=None, subsample=1, verbosity=1)"
      ]
     },
     "metadata": {
      "tags": []
     },
     "execution_count": 39
    }
   ]
  },
  {
   "cell_type": "code",
   "metadata": {
    "id": "zIrqzzOTXO9l",
    "colab_type": "code",
    "colab": {}
   },
   "source": [
    "y_pred = boost.predict(X_test)"
   ],
   "execution_count": 0,
   "outputs": []
  },
  {
   "cell_type": "code",
   "metadata": {
    "id": "C6-cHs_BXPDd",
    "colab_type": "code",
    "colab": {
     "base_uri": "https://localhost:8080/",
     "height": 51
    },
    "outputId": "bf388dbe-65c2-4cf9-b892-96711de8636f"
   },
   "source": [
    "cm_3 = confusion_matrix(y_test, y_pred)\n",
    "cm_3 # much better results"
   ],
   "execution_count": 41,
   "outputs": [
    {
     "output_type": "execute_result",
     "data": {
      "text/plain": [
       "array([[757,   9],\n",
       "       [ 42,  92]])"
      ]
     },
     "metadata": {
      "tags": []
     },
     "execution_count": 41
    }
   ]
  },
  {
   "cell_type": "code",
   "metadata": {
    "id": "v79juHWPWU1P",
    "colab_type": "code",
    "colab": {
     "base_uri": "https://localhost:8080/",
     "height": 170
    },
    "outputId": "e484248e-35e3-4d58-99cb-21e349f8687f"
   },
   "source": [
    "print(classification_report(y_test, y_pred)) # results of the boosting model"
   ],
   "execution_count": 42,
   "outputs": [
    {
     "output_type": "stream",
     "text": [
      "              precision    recall  f1-score   support\n",
      "\n",
      "           0       0.95      0.99      0.97       766\n",
      "           1       0.91      0.69      0.78       134\n",
      "\n",
      "    accuracy                           0.94       900\n",
      "   macro avg       0.93      0.84      0.88       900\n",
      "weighted avg       0.94      0.94      0.94       900\n",
      "\n"
     ],
     "name": "stdout"
    }
   ]
  },
  {
   "cell_type": "markdown",
   "metadata": {
    "id": "FrMGQW7EYq8m",
    "colab_type": "text"
   },
   "source": [
    "####Boosting seems to be the best model so far, and I'll settle on using it for the predictions. So, let's create a new boosting model, but this time using the whole customer_data (train.csv) dataset. Afterwards I'll run predictions on the test dataset and add the target column."
   ]
  },
  {
   "cell_type": "code",
   "metadata": {
    "id": "bGPGiO0iYLi8",
    "colab_type": "code",
    "colab": {}
   },
   "source": [
    "## Since, the state and ID columns seem to be irrelevant and/or dependant on other variables I'll just drop those for simplicity\n",
    "train_new = customer_data.drop([\"State\", \"ID\"], axis=1)\n",
    "test_new = test.drop([\"State\", \"ID\"], axis=1)"
   ],
   "execution_count": 0,
   "outputs": []
  },
  {
   "cell_type": "code",
   "metadata": {
    "id": "SxfVQ1DocEJr",
    "colab_type": "code",
    "colab": {}
   },
   "source": [
    "## Split target and dependant variables\n",
    "X_train = train_new.ix[:, 0:17].values\n",
    "y_train = train_new.ix[:, 18].values\n",
    "X_test = test_new.ix[:, 0:17].values"
   ],
   "execution_count": 0,
   "outputs": []
  },
  {
   "cell_type": "code",
   "metadata": {
    "id": "IpmrfFwRL7nd",
    "colab_type": "code",
    "colab": {
     "base_uri": "https://localhost:8080/",
     "height": 136
    },
    "outputId": "5650249b-b90a-4e29-d8f5-3e5585bc8536"
   },
   "source": [
    "## New training\n",
    "boost = xgboost.XGBClassifier()\n",
    "boost.fit(X_train, y_train)"
   ],
   "execution_count": 76,
   "outputs": [
    {
     "output_type": "execute_result",
     "data": {
      "text/plain": [
       "XGBClassifier(base_score=0.5, booster='gbtree', colsample_bylevel=1,\n",
       "              colsample_bynode=1, colsample_bytree=1, gamma=0,\n",
       "              learning_rate=0.1, max_delta_step=0, max_depth=3,\n",
       "              min_child_weight=1, missing=None, n_estimators=100, n_jobs=1,\n",
       "              nthread=None, objective='binary:logistic', random_state=0,\n",
       "              reg_alpha=0, reg_lambda=1, scale_pos_weight=1, seed=None,\n",
       "              silent=None, subsample=1, verbosity=1)"
      ]
     },
     "metadata": {
      "tags": []
     },
     "execution_count": 76
    }
   ]
  },
  {
   "cell_type": "code",
   "metadata": {
    "id": "XDvXoB7lMkVq",
    "colab_type": "code",
    "colab": {}
   },
   "source": [
    "test_pred = boost.predict(X_test)"
   ],
   "execution_count": 0,
   "outputs": []
  },
  {
   "cell_type": "code",
   "metadata": {
    "id": "6yX-c9EpNn0c",
    "colab_type": "code",
    "colab": {}
   },
   "source": [
    "test_proba_pred = boost.predict_proba(X_test)"
   ],
   "execution_count": 0,
   "outputs": []
  },
  {
   "cell_type": "code",
   "metadata": {
    "id": "0D8YZdQRRH6b",
    "colab_type": "code",
    "colab": {}
   },
   "source": [
    "pos_target_proba = test_proba_pred[:,1]"
   ],
   "execution_count": 0,
   "outputs": []
  },
  {
   "cell_type": "code",
   "metadata": {
    "id": "vBHoaMfsOv2L",
    "colab_type": "code",
    "colab": {}
   },
   "source": [
    "## Appending the new columns for predicted target and its probabilities\n",
    "test['target_pred'] = test_pred\n",
    "test['target_pos_prob'] = pos_target_proba"
   ],
   "execution_count": 0,
   "outputs": []
  },
  {
   "cell_type": "code",
   "metadata": {
    "id": "MDQ7NzeVP-8b",
    "colab_type": "code",
    "colab": {}
   },
   "source": [
    "## Sort the rows of dataframe by target probabilities\n",
    "test_sorted = test.sort_values(by = 'target_pos_prob', ascending=False)\n",
    "top_100 = test_sorted.head(100)"
   ],
   "execution_count": 0,
   "outputs": []
  },
  {
   "cell_type": "code",
   "metadata": {
    "id": "0MaSLuumQlJI",
    "colab_type": "code",
    "colab": {}
   },
   "source": [
    "## Write DF into a file\n",
    "top_100.to_csv('top_100.csv', encoding='utf-8')"
   ],
   "execution_count": 0,
   "outputs": []
  }
 ]
}